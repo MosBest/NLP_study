{
 "cells": [
  {
   "cell_type": "code",
   "execution_count": null,
   "metadata": {
    "collapsed": true
   },
   "outputs": [],
   "source": [
    "String.startswith(string, beg=0,end=len(string));\n",
    "描述\n",
    "Python startswith() 方法用于检查字符串是否是以指定子字符串开头，\n",
    "            如果是则返回 True，否则返回 False。如果参数 beg 和 end 指定值，则在指定范围内检查。\n",
    "参数\n",
    "string -- 检测的字符串。\n",
    "beg -- 可选参数用于设置字符串检测的起始位置。\n",
    "end -- 可选参数用于设置字符串检测的结束位置。\n",
    "返回值\n",
    "如果检测到字符串则返回True，否则返回False。"
   ]
  },
  {
   "cell_type": "code",
   "execution_count": null,
   "metadata": {
    "collapsed": true
   },
   "outputs": [],
   "source": [
    "all() 函数用于判断给定的可迭代参数 iterable 中的所有元素是否都为 TRUE，如果是返回 True，否则返回 False。\n",
    "\n",
    "元素除了是 0、空、None、False 外都算 True。"
   ]
  },
  {
   "cell_type": "code",
   "execution_count": null,
   "metadata": {
    "collapsed": true
   },
   "outputs": [],
   "source": [
    "描述\n",
    "Python isalpha() 方法检测字符串是否只由字母组成。\n",
    "\n",
    "语法\n",
    "isalpha()方法语法：\n",
    "\n",
    "str.isalpha()\n",
    "参数\n",
    "无。\n",
    "返回值\n",
    "如果字符串至少有一个字符并且所有字符都是字母则返回 True,否则返回 False"
   ]
  },
  {
   "cell_type": "code",
   "execution_count": null,
   "metadata": {
    "collapsed": true
   },
   "outputs": [],
   "source": [
    "Python 字典(Dictionary) get()方法\n",
    "描述\n",
    "Python 字典(Dictionary) get() 函数返回指定键的值，如果值不在字典中返回默认值。\n",
    "\n",
    "语法\n",
    "get()方法语法：\n",
    "\n",
    "dict.get(key, default=None)\n",
    "参数\n",
    "key -- 字典中要查找的键。\n",
    "default -- 如果指定键的值不存在时，返回该默认值值。\n",
    "返回值\n",
    "返回指定键的值，如果值不在字典中返回默认值None。"
   ]
  },
  {
   "cell_type": "code",
   "execution_count": null,
   "metadata": {
    "collapsed": true
   },
   "outputs": [],
   "source": [
    "python zip\n",
    ">>>a = [1,2,3]\n",
    ">>> b = [4,5,6]\n",
    ">>> c = [4,5,6,7,8]\n",
    ">>> zipped = zip(a,b)     # 打包为元组的列表\n",
    "[(1, 4), (2, 5), (3, 6)]"
   ]
  },
  {
   "cell_type": "code",
   "execution_count": null,
   "metadata": {
    "collapsed": true
   },
   "outputs": [],
   "source": [
    "for i, token in enumerate(saying):"
   ]
  }
 ],
 "metadata": {
  "anaconda-cloud": {},
  "kernelspec": {
   "display_name": "Python [conda root]",
   "language": "python",
   "name": "conda-root-py"
  },
  "language_info": {
   "codemirror_mode": {
    "name": "ipython",
    "version": 3
   },
   "file_extension": ".py",
   "mimetype": "text/x-python",
   "name": "python",
   "nbconvert_exporter": "python",
   "pygments_lexer": "ipython3",
   "version": "3.5.2"
  }
 },
 "nbformat": 4,
 "nbformat_minor": 1
}

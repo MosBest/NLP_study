{
 "cells": [
  {
   "cell_type": "markdown",
   "metadata": {},
   "source": [
    "# 基于模式匹配的对话机器人实现"
   ]
  },
  {
   "cell_type": "markdown",
   "metadata": {},
   "source": [
    "## 英文版"
   ]
  },
  {
   "cell_type": "code",
   "execution_count": null,
   "metadata": {},
   "outputs": [],
   "source": []
  },
  {
   "cell_type": "code",
   "execution_count": null,
   "metadata": {},
   "outputs": [],
   "source": [
    "def is_variable(pat):\n",
    "    '''\n",
    "    判断是不是 '?X'形式\n",
    "    '''\n",
    "    if pat.startswith('?') and (not pat.startswith('?*')):\n",
    "        return True\n",
    "    return False\n",
    "    \n",
    "def is_variable_star(pat):\n",
    "    '''\n",
    "    判断是不是 '?*X'形式\n",
    "    '''\n",
    "    if pat.startswith('?*'):\n",
    "        return True\n",
    "    return False"
   ]
  },
  {
   "cell_type": "code",
   "execution_count": null,
   "metadata": {},
   "outputs": [],
   "source": [
    "def segment_match(saying, key):\n",
    "    '''\n",
    "    处理'?*X'形式。 即[('?*A',['an', 'iphone'])]\n",
    "    '''\n",
    "    pat, rest = key[0], key[1:]\n",
    "    #print(\"pat\",pat)\n",
    "    #pat.replace('?*','?')\n",
    "    a = pat[2]\n",
    "    pat = '?'+ a\n",
    "    #print(\"pat\",pat)\n",
    "    if not rest:\n",
    "        return (pat,saying), len(saying)\n",
    "    for index, token in enumerate(saying):\n",
    "        if is_match(rest, saying[index:]):\n",
    "            return (pat, saying[:index]), index\n",
    "        \n",
    "    return (pat,saying), len(saying)"
   ]
  },
  {
   "cell_type": "code",
   "execution_count": null,
   "metadata": {},
   "outputs": [],
   "source": [
    "def is_match(rest, saying):\n",
    "    if not rest and not saying:\n",
    "        return True\n",
    "    if not all(a.isalpha() for a in rest[0]):\n",
    "        return True\n",
    "    if rest[0] != saying[0]:\n",
    "        return False\n",
    "    return is_match(rest[1:], saying[1:])\n"
   ]
  },
  {
   "cell_type": "code",
   "execution_count": null,
   "metadata": {},
   "outputs": [],
   "source": [
    "def pat_to_dict(pattern):\n",
    "    return {k:' '.join(v) if isinstance(v, list) else v for k,v in pattern}\n",
    "\n",
    "def subsitite(answer, pattern):\n",
    "    if not answer:\n",
    "        return []\n",
    "    return [pattern.get(answer[0], answer[0])] + subsitite(answer[1:], pattern)\n"
   ]
  },
  {
   "cell_type": "code",
   "execution_count": null,
   "metadata": {},
   "outputs": [],
   "source": [
    "def pat_match(saying, key):\n",
    "    '''\n",
    "    得到各个占位符真实的值 。占位符包括 '?X','?*X'\n",
    "    input:\n",
    "        saying: 比如：['I','need','iPhone']\n",
    "        key: 比如: ['I','need','?X']\n",
    "    return:\n",
    "        [('?x', 'hello'), ('?y','good')] 或者 None\n",
    "    '''\n",
    "    if (not saying) or (not key):\n",
    "        return []\n",
    "    pat = key[0]\n",
    "    #判断是不是 '?X'形式\n",
    "    if is_variable(pat):\n",
    "        return [(pat, saying[0])] + pat_match(saying[1:], key[1:])\n",
    "    \n",
    "    #判断是不是 '?*X'形式\n",
    "    if is_variable_star(pat):\n",
    "        (pat, value), index = segment_match(saying, key)\n",
    "        return [(pat, value)] + pat_match(saying[1:], key[index:])\n",
    "    \n",
    "    if pat == saying[0]:\n",
    "        return pat_match(saying[1:], key[1:])\n",
    "    return False"
   ]
  },
  {
   "cell_type": "code",
   "execution_count": null,
   "metadata": {},
   "outputs": [],
   "source": [
    "def get_response(saying, rules):\n",
    "\n",
    "    for key, value in rules.items():\n",
    "        # 第一步： 得到 pattern = [('?x', 'hello'), ('?y','good')]\n",
    "        pattern = pat_match(saying.split(),key.split())\n",
    "        #print(\"pattern:\", pattern)\n",
    "        if not pattern:\n",
    "            continue\n",
    "            \n",
    "        # 第二步： 将pattern转为字典  pattern = {'?x':'hello', '?y':'good'}\n",
    "        pattern = pat_to_dict(pattern)\n",
    "        # 第三步： 获取key对应的一个回答\n",
    "        answer = value[0]\n",
    "        # 第四步： 将此回答中的'?x' 用 上面的 pattern 替代\n",
    "        answer = subsitite(answer.split(),pattern)\n",
    "        print(\"B saying :\" + ' '.join(answer))\n",
    "        return\n",
    "    print(\"B saying :Sorry, I don't know what you said\")"
   ]
  },
  {
   "cell_type": "code",
   "execution_count": null,
   "metadata": {},
   "outputs": [],
   "source": [
    "rule_responses = {\n",
    "    '?*x hello ?*y': ['How do you do', 'Please state your problem'],\n",
    "    '?*x I want ?*y': ['what would it mean if you got ?y', 'Why do you want ?y', 'Suppose you got ?y soon'],\n",
    "    '?*x if ?*y': ['Do you really think its likely that ?y', 'Do you wish that ?y', 'What do you think about ?y', 'Really-- if ?y'],\n",
    "    '?*x no ?*y': ['why not?', 'You are being a negative', 'Are you saying \\'No\\' just to be negative?'],\n",
    "    '?*x I was ?*y': ['Were you really', 'Perhaps I already knew you were ?y', 'Why do you tell me you were ?y now?'],\n",
    "    '?*x I feel ?*y': ['Do you often feel ?y ?', 'What other feelings do you have?']\n",
    "}"
   ]
  },
  {
   "cell_type": "code",
   "execution_count": null,
   "metadata": {},
   "outputs": [],
   "source": [
    "number = 3\n",
    "for i in range(number):\n",
    "    saying = input(\"A saying :\")\n",
    "    get_response(saying, rule_responses)"
   ]
  },
  {
   "cell_type": "markdown",
   "metadata": {},
   "source": [
    "## 中文版"
   ]
  },
  {
   "cell_type": "code",
   "execution_count": 41,
   "metadata": {
    "collapsed": true
   },
   "outputs": [],
   "source": [
    "import jieba"
   ]
  },
  {
   "cell_type": "code",
   "execution_count": 42,
   "metadata": {},
   "outputs": [],
   "source": [
    "def Ch2zn(saying):\n",
    "    saying = jieba.lcut(saying)\n",
    "    while True:\n",
    "        length = len(saying)\n",
    "        try:\n",
    "            index = saying.index('?')\n",
    "        except:\n",
    "            break\n",
    "        else:\n",
    "            if index == (length - 1):\n",
    "                break\n",
    "            if saying[index+1] == '*':\n",
    "                saying[index] = '?*' + saying[index+2]\n",
    "                del saying[index+2]\n",
    "                del saying[index+1]\n",
    "            else:\n",
    "                saying[index] = '?' + saying[index+1]\n",
    "                del saying[index+1]\n",
    "    return saying"
   ]
  },
  {
   "cell_type": "code",
   "execution_count": 43,
   "metadata": {
    "collapsed": true
   },
   "outputs": [],
   "source": [
    "def get_response_Chinese(saying, rules):\n",
    "    \"\"\"\" please implement the code, to get the response as followings:\n",
    "    \n",
    "    >>> get_response('I need iPhone') \n",
    "    >>> Image you will get iPhone soon\n",
    "    >>> get_response(\"My mother told me something\")\n",
    "    >>> Talk about more about your monther.\n",
    "    \"\"\"\n",
    "\n",
    "    for key, value in rules.items():\n",
    "\n",
    "        # 第一步： 得到 pattern = [('?x', 'hello'), ('?y','good')]\n",
    "        pattern = pat_match(Ch2zn(saying),Ch2zn(key))\n",
    "\n",
    "        if not pattern:\n",
    "            continue\n",
    "            \n",
    "        # 第二步： 将pattern转为字典  pattern = {'?x':'hello', '?y':'good'}\n",
    "        pattern = pat_to_dict(pattern)\n",
    "        # 第三步： 获取key对应的一个回答\n",
    "        answer = value[0]\n",
    "        # 第四步： 将此回答中的'?x' 用 上面的 pattern 替代\n",
    "        answer = subsitite(Ch2zn(answer),pattern)\n",
    "        print(\"B saying :\" + ' '.join(answer))\n",
    "        return\n",
    "    print(\"B saying :Sorry, I don't know what you said\")"
   ]
  },
  {
   "cell_type": "code",
   "execution_count": 46,
   "metadata": {},
   "outputs": [
    {
     "name": "stdout",
     "output_type": "stream",
     "text": [
      "A saying :你好，我叫MOS, 很高兴认识你\n",
      "B saying : 你好 ， 我 也 很 高兴 认识 你\n"
     ]
    }
   ],
   "source": [
    "# -*- coding: utf-8 -*-\n",
    "rule_responses = {\n",
    "    '你好，我叫?*X, 很高兴认识你': [\"?X你好，我也很高兴认识你\"], \n",
    "    '我喜欢?*y': ['你为什么喜欢?*y？']\n",
    "}\n",
    "saying = input(\"A saying :\")\n",
    "get_response_Chinese(saying, rule_responses)"
   ]
  },
  {
   "cell_type": "code",
   "execution_count": null,
   "metadata": {
    "collapsed": true
   },
   "outputs": [],
   "source": []
  }
 ],
 "metadata": {
  "anaconda-cloud": {},
  "kernelspec": {
   "display_name": "Python 3",
   "language": "python",
   "name": "python3"
  },
  "language_info": {
   "codemirror_mode": {
    "name": "ipython",
    "version": 3
   },
   "file_extension": ".py",
   "mimetype": "text/x-python",
   "name": "python",
   "nbconvert_exporter": "python",
   "pygments_lexer": "ipython3",
   "version": "3.6.7"
  }
 },
 "nbformat": 4,
 "nbformat_minor": 1
}

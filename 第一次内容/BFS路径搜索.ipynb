{
 "cells": [
  {
   "cell_type": "markdown",
   "metadata": {},
   "source": [
    "# BFS路径搜索"
   ]
  },
  {
   "cell_type": "code",
   "execution_count": 19,
   "metadata": {
    "collapsed": false
   },
   "outputs": [],
   "source": [
    "# 存储城市点\n",
    "wuhan, beijing, guanzhou, shengzheng, hangzhou, xian = \"\"\"\n",
    "        wuhan|beijing|guanzhou|shengzheng|hangzhou|xian\n",
    "\"\"\".strip().split('|') "
   ]
  },
  {
   "cell_type": "code",
   "execution_count": 20,
   "metadata": {
    "collapsed": false
   },
   "outputs": [],
   "source": [
    "# 利用字典保存 城市之间的路径\n",
    "dictionary = {}\n",
    "dictionary[wuhan] = [beijing, guanzhou, xian]\n",
    "dictionary[beijing] = [wuhan, shengzheng, hangzhou]\n",
    "dictionary[guanzhou] = [wuhan, shengzheng]\n",
    "dictionary[shengzheng] = [beijing, guanzhou]\n",
    "dictionary[hangzhou] = [xian, beijing]\n",
    "dictionary[xian] = [wuhan, hangzhou]"
   ]
  },
  {
   "cell_type": "code",
   "execution_count": 21,
   "metadata": {
    "collapsed": true
   },
   "outputs": [],
   "source": [
    "import networkx as nx"
   ]
  },
  {
   "cell_type": "code",
   "execution_count": 22,
   "metadata": {
    "collapsed": true
   },
   "outputs": [],
   "source": [
    "Map = nx.Graph(dictionary)"
   ]
  },
  {
   "cell_type": "code",
   "execution_count": 23,
   "metadata": {
    "collapsed": false
   },
   "outputs": [
    {
     "data": {
      "image/png": "[encoded data removed]",
      "text/plain": [
       "<matplotlib.figure.Figure at 0x23dfc26c7f0>"
      ]
     },
     "metadata": {},
     "output_type": "display_data"
    }
   ],
   "source": [
    "%matplotlib inline\n",
    "nx.draw(Map)"
   ]
  },
  {
   "cell_type": "code",
   "execution_count": 37,
   "metadata": {
    "collapsed": true
   },
   "outputs": [],
   "source": [
    "def bfs_find_all_route(start, end, dictionary):\n",
    "    city = list(dictionary.keys())\n",
    "    if start.strip() not in city:\n",
    "        print(\"error: 没有这个开始点\")\n",
    "        return -1\n",
    "    if end.strip() not in city:\n",
    "        print(\"error: 没有这个结束点\")\n",
    "        return -1\n",
    "    \n",
    "    rote = [[start]]\n",
    "    path = []\n",
    "    while len(rote)!=0:\n",
    "        k = rote.pop(0)\n",
    "        next_node = dictionary[k[-1]]\n",
    "        for node in next_node:\n",
    "            if node == end:\n",
    "                path.append( k + [node])\n",
    "                continue\n",
    "            if node in k:\n",
    "                continue\n",
    "            \n",
    "            rote.append(k + [node])  \n",
    "    return path\n",
    "        "
   ]
  },
  {
   "cell_type": "code",
   "execution_count": 40,
   "metadata": {
    "collapsed": false
   },
   "outputs": [],
   "source": [
    "paths = bfs_find_all_route(wuhan, beijing, dictionary)"
   ]
  },
  {
   "cell_type": "code",
   "execution_count": 44,
   "metadata": {
    "collapsed": false
   },
   "outputs": [
    {
     "name": "stdout",
     "output_type": "stream",
     "text": [
      "打印从wuhan到beijing所有可能路径\n",
      "wuhan -> beijing\n",
      "wuhan -> guanzhou -> shengzheng -> beijing\n",
      "wuhan -> xian -> hangzhou -> beijing\n"
     ]
    }
   ],
   "source": [
    "print(\"打印从{}到{}所有可能路径\".format(wuhan, beijing))\n",
    "for path in paths:\n",
    "    print(' -> '.join(path))"
   ]
  },
  {
   "cell_type": "code",
   "execution_count": null,
   "metadata": {
    "collapsed": true
   },
   "outputs": [],
   "source": []
  }
 ],
 "metadata": {
  "anaconda-cloud": {},
  "kernelspec": {
   "display_name": "Python [conda root]",
   "language": "python",
   "name": "conda-root-py"
  },
  "language_info": {
   "codemirror_mode": {
    "name": "ipython",
    "version": 3
   },
   "file_extension": ".py",
   "mimetype": "text/x-python",
   "name": "python",
   "nbconvert_exporter": "python",
   "pygments_lexer": "ipython3",
   "version": "3.5.2"
  }
 },
 "nbformat": 4,
 "nbformat_minor": 1
}

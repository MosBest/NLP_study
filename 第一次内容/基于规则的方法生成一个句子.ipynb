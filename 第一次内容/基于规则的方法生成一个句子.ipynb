{
 "cells": [
  {
   "cell_type": "markdown",
   "metadata": {},
   "source": [
    "# Rule Based"
   ]
  },
  {
   "cell_type": "code",
   "execution_count": 16,
   "metadata": {
    "collapsed": true
   },
   "outputs": [],
   "source": [
    "grammer = \"\"\"\n",
    "sentence => noun_phrase verb_phrase\n",
    "noun_phrase => Article Adj* noun\n",
    "Adj* => null | Adj Adj*\n",
    "verb_phrase => verb noun_phrase\n",
    "Article => 一个 | 这个\n",
    "noun => 女人 | 篮球 | 桌子 | 小猫\n",
    "verb => 看着 | 坐着 | 听着 | 看见\n",
    "Adj => 蓝色的 | 好看的 | 小小的\n",
    "\"\"\""
   ]
  },
  {
   "cell_type": "markdown",
   "metadata": {},
   "source": [
    "句子 == noun_phrase + verb_phrase\n",
    "\n",
    "noun_phrase == 介词 + 一大堆形容词 + 名词\n",
    "\n",
    "一大堆形容词 == null 或者 （一个形容词 + 一大堆形容词）\n",
    "\n",
    "verb_phrase == 动词 + verb_phrase"
   ]
  },
  {
   "cell_type": "code",
   "execution_count": 42,
   "metadata": {
    "collapsed": true
   },
   "outputs": [],
   "source": [
    "def parse_grammer(grammer, Split = '=>'):\n",
    "    '''\n",
    "    将grammer 变换成 字典类型 。 key就是=>左边的值。 value就是=>右边的值\n",
    "    '''\n",
    "    g = {}\n",
    "    grammer = grammer.strip().split('\\n')\n",
    "    for lines in grammer:\n",
    "\n",
    "        key, value = lines.strip().split(Split)\n",
    "        key = key.strip()\n",
    "        \n",
    "        value =[r.split() for r in value.strip().split('|')]\n",
    "        g[key] = value\n",
    "    return g\n",
    "#parse_grammer(grammer)"
   ]
  },
  {
   "cell_type": "code",
   "execution_count": 45,
   "metadata": {
    "collapsed": false
   },
   "outputs": [],
   "source": [
    "g = parse_grammer(grammer)"
   ]
  },
  {
   "cell_type": "code",
   "execution_count": 47,
   "metadata": {
    "collapsed": true
   },
   "outputs": [],
   "source": [
    "import random"
   ]
  },
  {
   "cell_type": "code",
   "execution_count": 56,
   "metadata": {
    "collapsed": true
   },
   "outputs": [],
   "source": [
    "def generator(g, start = 'sentence'):\n",
    "    if start not in g:\n",
    "        return start\n",
    "    return ''.join(generator(g, start = k) for k in random.choice(g[start]) if k != 'null')"
   ]
  },
  {
   "cell_type": "code",
   "execution_count": 69,
   "metadata": {
    "collapsed": false
   },
   "outputs": [
    {
     "data": {
      "text/plain": [
       "'这个桌子看见一个桌子'"
      ]
     },
     "execution_count": 69,
     "metadata": {},
     "output_type": "execute_result"
    }
   ],
   "source": [
    "generator(g, start = 'sentence')"
   ]
  }
 ],
 "metadata": {
  "anaconda-cloud": {},
  "kernelspec": {
   "display_name": "Python [conda root]",
   "language": "python",
   "name": "conda-root-py"
  },
  "language_info": {
   "codemirror_mode": {
    "name": "ipython",
    "version": 3
   },
   "file_extension": ".py",
   "mimetype": "text/x-python",
   "name": "python",
   "nbconvert_exporter": "python",
   "pygments_lexer": "ipython3",
   "version": "3.5.2"
  }
 },
 "nbformat": 4,
 "nbformat_minor": 1
}

{
 "cells": [
  {
   "cell_type": "markdown",
   "metadata": {},
   "source": [
    "1. 不要想着补充自己的短板，知识这么多，那得补到什么时候去\n",
    "    应该想着 怎样发挥 自己的长处，自己的闪光点。\n",
    "    以后真正吃饭的还是自己的优点。\n",
    "2. 自信"
   ]
  },
  {
   "cell_type": "code",
   "execution_count": null,
   "metadata": {},
   "outputs": [],
   "source": [
    "python generator机制\n",
    "读取文件，巨大的运算等等某些操作，可能需要花费很大的时间。\n",
    "关键字： generator  yield  next() \n",
    "占用内存小，省时间"
   ]
  },
  {
   "cell_type": "code",
   "execution_count": null,
   "metadata": {},
   "outputs": [],
   "source": [
    "很多问题都可以用概率模型解决，而语言模型就是概率模型的一种\n",
    "之前讲的语法树，语法规则等等太过复杂\n",
    "面对复杂的问题，能不能用概率的方式解决"
   ]
  },
  {
   "cell_type": "code",
   "execution_count": null,
   "metadata": {},
   "outputs": [],
   "source": [
    "1. 人工定义规则 的语法树\n",
    "2. 图论 搜索问题\n",
    "3. 数据变化\n",
    "4. 基于概率模型"
   ]
  },
  {
   "cell_type": "code",
   "execution_count": null,
   "metadata": {},
   "outputs": [],
   "source": [
    "功能就是一个 f()\n",
    "函数里面的参数保持不变。\n",
    "当问题越来越复杂，人已经想不透如何用 某个 公式 来表示模型\n",
    "以前通过自己的观察，得到一个函数\n",
    "现在我们只能大体说出函数的大概形式，而参数 能够自动修改"
   ]
  },
  {
   "cell_type": "code",
   "execution_count": null,
   "metadata": {},
   "outputs": [],
   "source": [
    "data driven"
   ]
  },
  {
   "cell_type": "code",
   "execution_count": null,
   "metadata": {},
   "outputs": [],
   "source": [
    "变化方向\n",
    "如果k 增大 ，b增大 ，导致loss减小\n",
    "那么下一次k,b变化的方向不变\n",
    "否则二者方向改变"
   ]
  },
  {
   "cell_type": "markdown",
   "metadata": {},
   "source": [
    "loss函数的区别\n",
    "|y - y_|\n",
    "|y - y_|^2   \n",
    "sqrt(|y - y_|)\n",
    "\n",
    "\n",
    "|y - y_|^n  n可为小数\n",
    "当n大时，表明每个点对结果的影响大。\n",
    "n越大， 也就是那么相比于|y - y_|， 点y_越接近y , |y - y_|^n 对结果的影响比 |y - y_|越小\n",
    "点y_越偏离y , |y - y_|^n 对结果的影响比 |y - y_|越大，点的影响越大"
   ]
  },
  {
   "cell_type": "code",
   "execution_count": null,
   "metadata": {},
   "outputs": [],
   "source": [
    "data driven 数据驱动 ： 输入数据有数据生成程序（模型）\n"
   ]
  }
 ],
 "metadata": {
  "kernelspec": {
   "display_name": "Python 3",
   "language": "python",
   "name": "python3"
  },
  "language_info": {
   "codemirror_mode": {
    "name": "ipython",
    "version": 3
   },
   "file_extension": ".py",
   "mimetype": "text/x-python",
   "name": "python",
   "nbconvert_exporter": "python",
   "pygments_lexer": "ipython3",
   "version": "3.6.7"
  }
 },
 "nbformat": 4,
 "nbformat_minor": 2
}

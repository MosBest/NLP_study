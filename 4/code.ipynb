{
 "cells": [
  {
   "cell_type": "markdown",
   "metadata": {},
   "source": [
    "# 使用动态规划解决 切分问题"
   ]
  },
  {
   "cell_type": "markdown",
   "metadata": {},
   "source": [
    "## 问题  木匠有L个长度的圆木，切分成以下长度i，每个i对应的收益为pi，问长度为L的圆木应该怎样切分？"
   ]
  },
  {
   "cell_type": "markdown",
   "metadata": {},
   "source": [
    "![1](Picture1.png)"
   ]
  },
  {
   "cell_type": "code",
   "execution_count": 5,
   "metadata": {},
   "outputs": [],
   "source": [
    "price = {'1':(1,1), '2':(5,2), '3':(8,3), '4':(9,4), '5':(10,5), '6':(17,6), '7':(17,7)\n",
    "         , '8':(28, 8), '9':(24,9), '10':(30,10)}"
   ]
  },
  {
   "cell_type": "code",
   "execution_count": null,
   "metadata": {},
   "outputs": [],
   "source": [
    "{'1': (1, 1),\n",
    " '10': (33, 2),\n",
    " '2': (5, 2),\n",
    " '3': (8, 3),\n",
    " '4': (10, 2),\n",
    " '5': (13, 2),\n",
    " '6': (17, 6),\n",
    " '7': (18, 1),\n",
    " '8': (28, 8),\n",
    " '9': (29, 1)}"
   ]
  },
  {
   "cell_type": "code",
   "execution_count": 31,
   "metadata": {},
   "outputs": [],
   "source": [
    "def cut(L, price):\n",
    "    optimal ={}\n",
    "    for i in range(1, L+1):\n",
    "        if i == 1:\n",
    "            optimal['1'] = (1, 1)\n",
    "            continue\n",
    "        if i == 2:\n",
    "            optimal['2'] = (5, 2)\n",
    "            continue\n",
    "        if i == 3:\n",
    "            optimal['3'] = (8, 3)\n",
    "            continue\n",
    "        \n",
    "        if str(i) in price.keys():\n",
    "            print(str(i))\n",
    "            list_ = [price[str(i)]] + [(optimal[str(j)][0] + optimal[str(i-j)][0], j) for j in range(1,i//2+1)]\n",
    "            print(list_)\n",
    "            optimal[str(i)] = max(list_, key=lambda x:x[0])\n",
    "        else:\n",
    "            list_ = [(optimal[str(j)][0] + optimal[str(i-j)][0], j) for j in range(1,i//2)]\n",
    "            optimal[str(i)] = max(list_, key=lambda x:x[0])\n",
    "    return optimal"
   ]
  },
  {
   "cell_type": "code",
   "execution_count": 32,
   "metadata": {},
   "outputs": [
    {
     "name": "stdout",
     "output_type": "stream",
     "text": [
      "4\n",
      "[(9, 4), (9, 1), (10, 2)]\n",
      "5\n",
      "[(10, 5), (11, 1), (13, 2)]\n",
      "6\n",
      "[(17, 6), (14, 1), (15, 2), (16, 3)]\n",
      "7\n",
      "[(17, 7), (18, 1), (18, 2), (18, 3)]\n",
      "8\n",
      "[(28, 8), (19, 1), (22, 2), (21, 3), (20, 4)]\n",
      "9\n",
      "[(24, 9), (29, 1), (23, 2), (25, 3), (23, 4)]\n",
      "10\n",
      "[(30, 10), (30, 1), (33, 2), (26, 3), (27, 4), (26, 5)]\n"
     ]
    }
   ],
   "source": [
    "L = 10\n",
    "optimal = cut(L, price)"
   ]
  },
  {
   "cell_type": "code",
   "execution_count": 33,
   "metadata": {},
   "outputs": [
    {
     "data": {
      "text/plain": [
       "{'1': (1, 1),\n",
       " '10': (33, 2),\n",
       " '2': (5, 2),\n",
       " '3': (8, 3),\n",
       " '4': (10, 2),\n",
       " '5': (13, 2),\n",
       " '6': (17, 6),\n",
       " '7': (18, 1),\n",
       " '8': (28, 8),\n",
       " '9': (29, 1)}"
      ]
     },
     "execution_count": 33,
     "metadata": {},
     "output_type": "execute_result"
    }
   ],
   "source": [
    "optimal"
   ]
  },
  {
   "cell_type": "code",
   "execution_count": null,
   "metadata": {},
   "outputs": [],
   "source": []
  },
  {
   "cell_type": "code",
   "execution_count": null,
   "metadata": {},
   "outputs": [],
   "source": []
  },
  {
   "cell_type": "code",
   "execution_count": null,
   "metadata": {},
   "outputs": [],
   "source": []
  }
 ],
 "metadata": {
  "kernelspec": {
   "display_name": "Python 3",
   "language": "python",
   "name": "python3"
  },
  "language_info": {
   "codemirror_mode": {
    "name": "ipython",
    "version": 3
   },
   "file_extension": ".py",
   "mimetype": "text/x-python",
   "name": "python",
   "nbconvert_exporter": "python",
   "pygments_lexer": "ipython3",
   "version": "3.6.7"
  }
 },
 "nbformat": 4,
 "nbformat_minor": 2
}

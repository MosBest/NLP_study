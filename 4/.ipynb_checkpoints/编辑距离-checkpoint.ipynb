{
 "cells": [
  {
   "cell_type": "markdown",
   "metadata": {},
   "source": [
    "边界距离： 两个词的相似度\n",
    "\n",
    "怎样用数学定义边界距离？\n",
    "\n",
    "Defining Min Edit Distence:\n",
    "      1. \"插入，删除\" 距离定义为1\n",
    "      2. \"替换\" 距离定义为2\n",
    "\n",
    "动态规划问题：\n",
    "    string1\n",
    "    string2\n",
    "    这里计算 string1 变为 string2 所需步骤（即编辑距离）\n",
    "    \n",
    "    1. Initialization\n",
    "            1. D(string1[i], 0) = i\n",
    "            2. D(0, string2[j]) = j\n",
    "        \n",
    "    2. D(i, j) = min()\n",
    "\n",
    "1. D(string1[:-1], string2[:]) + 1\n",
    "    在string1 和 string2长度不相等时， 删除操作：对string1的末尾删除\n",
    "    \n",
    "2. D(string1[:], string2[:-1]) + 1\n",
    "    在string1 和 string2长度不相等时， 增加操作：让sting1的末尾增加一个（且值为string2的末尾）\n",
    "\n",
    "3. D(i-1, j-1)+2 if x(i)!=y(j) else D(i-1, j-1)\n",
    "    变换操作：让string1的末尾直接变为string2的末尾\n"
   ]
  },
  {
   "cell_type": "code",
   "execution_count": 1,
   "metadata": {},
   "outputs": [],
   "source": [
    "import numpy as np"
   ]
  },
  {
   "cell_type": "markdown",
   "metadata": {},
   "source": []
  },
  {
   "cell_type": "code",
   "execution_count": 17,
   "metadata": {},
   "outputs": [],
   "source": [
    "solution = {}\n",
    "def edit_distance(string1, string2):\n",
    "    i = 0\n",
    "    j = 0\n",
    "    distance = np.zeros((len(string1), len(string2))).tolist()\n",
    "    \n",
    "    if string1[i] == string2[i]:\n",
    "        distance[i][j] = (0, \"no operation\")\n",
    "    else:\n",
    "        distance[i][j] = (2, \"change {} => {}\".format(string1[i], string2[j]))\n",
    "    \n",
    "    for i in range(1, len(string1)):\n",
    "        distance[i][0] = (i, \"edl {}\".format(string1[i]))\n",
    "    \n",
    "    for j in range(1, len(string2)):\n",
    "        distance[0][j] = (j, \"add {}\".format(string2[j]))\n",
    "    \n",
    "    for i in range(1, len(string1)):\n",
    "        for j in range(1, len(string2)):\n",
    "            if string1[i] == string2[j]:\n",
    "                a1 = (distance[i-1][j-1][0], \"no operation\")\n",
    "            else:\n",
    "                a1 = (distance[i-1][j-1][0] + 2, \"change {} => {}\".format(string1[i], string2[j]))\n",
    "            \n",
    "            a2 = (distance[i-1][j][0] + 1, \"edl {}\".format(string1[i]))\n",
    "            a3 = (distance[i][j-1][0] + 1, \"add {}\".format(string2[j]))\n",
    "            distance[i][j] = min([a1,a2,a3], key=lambda x:x[0])\n",
    "    \n",
    "    return distance"
   ]
  },
  {
   "cell_type": "code",
   "execution_count": 18,
   "metadata": {},
   "outputs": [],
   "source": [
    "string1 = \"beijing\"\n",
    "string2 = \"biejing\"\n",
    "distance = edit_distance(string1, string2)"
   ]
  },
  {
   "cell_type": "code",
   "execution_count": 23,
   "metadata": {},
   "outputs": [
    {
     "name": "stdout",
     "output_type": "stream",
     "text": [
      "操作过程为：\n",
      "(0, 'no operation')\n",
      "(2, 'change e => i')\n",
      "(2, 'edl i')\n",
      "(2, 'no operation')\n",
      "(2, 'no operation')\n",
      "(2, 'no operation')\n",
      "(2, 'no operation')\n",
      "最终所需操作数目为： 5\n"
     ]
    }
   ],
   "source": [
    "print(\"操作过程为：\")\n",
    "for i in range(len(\"beijing\")):\n",
    "    print(distance[i][i])\n",
    "print(\"最终所需操作数目为：\", distance[-1][1][0])"
   ]
  },
  {
   "cell_type": "code",
   "execution_count": null,
   "metadata": {},
   "outputs": [],
   "source": []
  }
 ],
 "metadata": {
  "kernelspec": {
   "display_name": "Python 3",
   "language": "python",
   "name": "python3"
  },
  "language_info": {
   "codemirror_mode": {
    "name": "ipython",
    "version": 3
   },
   "file_extension": ".py",
   "mimetype": "text/x-python",
   "name": "python",
   "nbconvert_exporter": "python",
   "pygments_lexer": "ipython3",
   "version": "3.6.7"
  }
 },
 "nbformat": 4,
 "nbformat_minor": 2
}

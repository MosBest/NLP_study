{
 "cells": [
  {
   "cell_type": "markdown",
   "metadata": {},
   "source": [
    "# 使用动态规划解决 切分问题"
   ]
  },
  {
   "cell_type": "markdown",
   "metadata": {},
   "source": [
    "## 问题  木匠有L个长度的圆木，切分成以下长度i，每个i对应的收益为pi，问长度为L的圆木应该怎样切分？"
   ]
  },
  {
   "cell_type": "markdown",
   "metadata": {},
   "source": [
    "![1](Picture1.png)"
   ]
  },
  {
   "cell_type": "code",
   "execution_count": 1,
   "metadata": {},
   "outputs": [],
   "source": [
    "price = {'1':(1,(1)), '2':(5,(2)), '3':(8,(3)), '4':(9,(4)), '5':(10,(5)), '6':(17,(6)), '7':(17,(7))\n",
    "         , '8':(20, (8)), '9':(24,(9)), '10':(30,(10))}"
   ]
  },
  {
   "cell_type": "code",
   "execution_count": 2,
   "metadata": {},
   "outputs": [],
   "source": [
    "def cut(L, price):\n",
    "    optimal ={}\n",
    "    for i in range(1, L+1):\n",
    "        if i == 1:\n",
    "            optimal['1'] = (1, (1))\n",
    "            continue\n",
    "        if i == 2:\n",
    "            optimal['2'] = (5, (2))\n",
    "            continue\n",
    "        if i == 3:\n",
    "            optimal['3'] = (8, (3))\n",
    "            continue\n",
    "        \n",
    "        if str(i) in price.keys():\n",
    "            list_ = [price[str(i)]] + [(optimal[str(j)][0] + optimal[str(i-j)][0], (j, optimal[str(i-j)][1])) for j in range(1,i//2+1)]\n",
    "            optimal[str(i)] = max(list_, key=lambda x:x[0])\n",
    "        else:\n",
    "            list_ = [(optimal[str(j)][0] + optimal[str(i-j)][0], (j, optimal[str(i-j)][1])) for j in range(1,i//2+1)]\n",
    "            optimal[str(i)] = max(list_, key=lambda x:x[0])\n",
    "    return optimal[str(L)]"
   ]
  },
  {
   "cell_type": "code",
   "execution_count": 4,
   "metadata": {},
   "outputs": [],
   "source": [
    "L = 19\n",
    "profit, program = cut(L, price)"
   ]
  },
  {
   "cell_type": "code",
   "execution_count": 5,
   "metadata": {},
   "outputs": [
    {
     "name": "stdout",
     "output_type": "stream",
     "text": [
      "55\n",
      "(3, (6, 10))\n"
     ]
    }
   ],
   "source": [
    "print(profit)\n",
    "print(program)"
   ]
  },
  {
   "cell_type": "code",
   "execution_count": null,
   "metadata": {},
   "outputs": [],
   "source": []
  },
  {
   "cell_type": "code",
   "execution_count": null,
   "metadata": {},
   "outputs": [],
   "source": []
  },
  {
   "cell_type": "code",
   "execution_count": null,
   "metadata": {},
   "outputs": [],
   "source": []
  }
 ],
 "metadata": {
  "kernelspec": {
   "display_name": "Python 3",
   "language": "python",
   "name": "python3"
  },
  "language_info": {
   "codemirror_mode": {
    "name": "ipython",
    "version": 3
   },
   "file_extension": ".py",
   "mimetype": "text/x-python",
   "name": "python",
   "nbconvert_exporter": "python",
   "pygments_lexer": "ipython3",
   "version": "3.6.7"
  }
 },
 "nbformat": 4,
 "nbformat_minor": 2
}

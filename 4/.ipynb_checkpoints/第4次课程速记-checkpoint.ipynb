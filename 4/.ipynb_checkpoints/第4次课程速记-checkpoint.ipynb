{
 "cells": [
  {
   "cell_type": "markdown",
   "metadata": {},
   "source": [
    "1. SICP ,Structure and Interpretation of Computer programming《计算机程序设计的解释和构造》\n",
    "前面几章教你lips语言, 第4章教你用lips写个编译器\n",
    "\n",
    "2. Introduction to Algorithms 《算法导论》\n",
    "\n",
    "3. Artificial Intelligence A Modern Approach(3rd Edition)《人工智能：一种现代方法》\n",
    "\n",
    "4. Code Complete 2 《代码大全》\n",
    "\n",
    "5. 《编程珠机》\n",
    "看懂的前提是，自己是一个很资深的programmer。要不然根本不懂它说算了\n",
    "\n",
    "6. Deep Learning 《深度学习》\n",
    "当个字典，遇到不懂的去查就可以了。\n",
    "\n",
    "7. 《黑客与画家》\n",
    "\n",
    "8. 《数学之美》， 吴军\n",
    "\n",
    "9. Fluent Python\n",
    "python高阶方法的使用\n",
    "语言是可以影响思维的，有的人写的python代码只是c,matlib翻译过来的而已。一点python精髓都没有。\n",
    "\n",
    "10. Hands on Tensorflow\n",
    "本书以 scikit-learning, tensorflow 实例来讲解的。\n",
    "\n",
    "Conference: NIPS, ICML, ICLR, ACL, AAAI\n",
    "\n",
    "    计算机系程序写的多的： 1《 3《 5 难度\n",
    "    通信系，代码写的不好看的： 4 《 9\n",
    "    所有人都可以看： 8\n",
    "    数学系：6, 10\n",
    "\n",
    "OREILLY 出版的动物书都不错\n",
    "\n",
    "《算法导论》定位是 参考书， 一本手册，需要时去查，不要去背\n",
    "\n",
    "《深入理解计算机系统》内容其实很简单，很初级，很通俗的书，原名是《以程序员的视角看计算机系统》\n",
    "\n",
    "看书前，看书的自序，看作者怎么要求，怎么看这本书。\n",
    "\n",
    "《编程珠机》里面的题好好做做"
   ]
  },
  {
   "cell_type": "markdown",
   "metadata": {},
   "source": [
    "coursera中  bulid a modern computer ... ...\n",
    "一门神课\n",
    "第一步部分：教你从二极管开始，建立一个能够运行程序（二进制程序）的机器\n",
    "第二部分： 从010101代码变成一个完整的操作系统。这个操作系统包括 计算机高级语言，图像绘制， 计算机文件调度 等等\n",
    "\n",
    "上完这个课， 你对计算机的理解超过90%的研究生"
   ]
  },
  {
   "cell_type": "markdown",
   "metadata": {},
   "source": [
    "因为理论强大，所以实战的好，又因为实战的好，所以对理论有了更深的理解\n",
    "理论和实战必须都要会\n",
    "理论不好，实战也不会有多好"
   ]
  },
  {
   "cell_type": "markdown",
   "metadata": {},
   "source": [
    "ACL期刊： 计算机界顶级会议https://acl2018.org/programme/papers/\n",
    "\n",
    "ICML: 机器学习方面的顶级会议"
   ]
  },
  {
   "cell_type": "markdown",
   "metadata": {},
   "source": [
    "1. Words (哪些东西可以分割为单词)\n",
    "2. Entity(实体，就是人名，地名)\n",
    "3. 语法分析 （这句是 疑问句，问句等等）\n",
    "4. 语义分析 （这句话是什么意思）\n",
    "5. 对话系统 (现在的对话机器人是 语义匹配。)\n",
    "6. 机器阅读理解（要回答问题的答案 必须在 阅读文章 中， 且答案不能是结合多段落得出的）\n",
    "7. 自动摘要：\n",
    "8. 文本自动生成：输入公司财报， 输出 规范的文本报告"
   ]
  },
  {
   "cell_type": "markdown",
   "metadata": {},
   "source": [
    "NLP:\n",
    "    1. 怎样用计算机表示它\n",
    "    2. 决策，怎样计算它"
   ]
  },
  {
   "cell_type": "markdown",
   "metadata": {},
   "source": [
    "NLP要处理问题：\n",
    "    1. 信息紊乱，嘈杂\n",
    "    2. 数据都是 没有结构化的数据\n",
    "    3. 数据都是不连续的\n",
    "    4. 数据都是不常规的。（语言的特点就是它没有特点）\n",
    "    5. OOV问题。 out of verctory"
   ]
  },
  {
   "cell_type": "markdown",
   "metadata": {},
   "source": [
    "# 动态规划"
   ]
  },
  {
   "cell_type": "markdown",
   "metadata": {},
   "source": [
    "# Dynamic Programming for Gob Cutting"
   ]
  },
  {
   "cell_type": "code",
   "execution_count": 1,
   "metadata": {},
   "outputs": [],
   "source": [
    "original_price = [1, 5, 8 ,9 ,10,17,17,20,24,30]"
   ]
  },
  {
   "cell_type": "code",
   "execution_count": 2,
   "metadata": {},
   "outputs": [],
   "source": [
    "from collections import defaultdict"
   ]
  },
  {
   "cell_type": "code",
   "execution_count": 3,
   "metadata": {},
   "outputs": [],
   "source": [
    "price = defaultdict(int)"
   ]
  },
  {
   "cell_type": "code",
   "execution_count": 11,
   "metadata": {},
   "outputs": [
    {
     "data": {
      "text/plain": [
       "0"
      ]
     },
     "execution_count": 11,
     "metadata": {},
     "output_type": "execute_result"
    }
   ],
   "source": [
    "price[123]"
   ]
  },
  {
   "cell_type": "code",
   "execution_count": 4,
   "metadata": {},
   "outputs": [],
   "source": [
    "for i, p in enumerate(original_price):\n",
    "    price[i+1] = p\n",
    "assert price[1] == 1"
   ]
  },
  {
   "cell_type": "code",
   "execution_count": 8,
   "metadata": {},
   "outputs": [],
   "source": [
    "def r(n):\n",
    "    return max(\n",
    "        # [p[n], r(1) + r(n-1), r(2) + r(n-2), ... r(n-1) + r(1)]\n",
    "        [price[n]] + [r(i) + r(n-i) for i in range(1, n)]\n",
    "    )"
   ]
  },
  {
   "cell_type": "code",
   "execution_count": 9,
   "metadata": {},
   "outputs": [
    {
     "data": {
      "text/plain": [
       "31"
      ]
     },
     "execution_count": 9,
     "metadata": {},
     "output_type": "execute_result"
    }
   ],
   "source": [
    "r(11)"
   ]
  },
  {
   "cell_type": "markdown",
   "metadata": {},
   "source": [
    "当你发现一个程序运行的很慢，那么你可以考虑，他有没有重复的子问题，或者能不能转化为重复的子问题，然后考虑用动态规划来做。"
   ]
  },
  {
   "cell_type": "markdown",
   "metadata": {},
   "source": [
    "Edit Distance ： 判断两个单词相似程度\n",
    "\n",
    "    方法1：第一个单词需要经过多少次变化变为第二个单词，变化的次数越少，那么这两个单词越接近\n",
    "    方法2："
   ]
  },
  {
   "cell_type": "markdown",
   "metadata": {},
   "source": [
    "# 下一步：怎样用程序来 实现  两个词的相似程度！！！\n",
    "\n",
    "# 看到4:12:01"
   ]
  },
  {
   "cell_type": "markdown",
   "metadata": {},
   "source": [
    "Search Graph is Huge"
   ]
  },
  {
   "cell_type": "code",
   "execution_count": null,
   "metadata": {},
   "outputs": [],
   "source": [
    "边界距离： 两个词的相似度\n",
    "\n",
    "怎样用数学定义边界距离？\n",
    "Defining Min Edit Distence\n",
    "插入，删除 定义为1， 替换 定义为2\n",
    "\n",
    "动态规划问题：\n",
    "Initialization\n",
    "D(i, 0) = i\n",
    "D(0, j) = j\n",
    "\n",
    "D(i, j) = min { 1, 2 ,3}\n",
    "1. D(i-1, j) + 1\n",
    "    absss\n",
    "    abss\n",
    "    \n",
    "2. D(i, j-1) + 1\n",
    "    absss\n",
    "    absssss\n",
    "\n",
    "3. D(i-1, j-1)+2 if x(i)!=y(j) else D(i-1, j-1)\n",
    "\n",
    "\n"
   ]
  },
  {
   "cell_type": "markdown",
   "metadata": {},
   "source": [
    "# Edit Distance"
   ]
  },
  {
   "cell_type": "code",
   "execution_count": null,
   "metadata": {},
   "outputs": [],
   "source": [
    "@lru_cache\n",
    "def edit_distance(string1, string2):\n",
    "    \n",
    "    if len(string1) == 0 :\n",
    "        return len(string2)\n",
    "    if len(string2) == 0:\n",
    "        return len(string1)\n",
    "    \n",
    "    tail_s1 = string1[-1]\n",
    "    tail_s2 = string2[-1]\n",
    "    \n",
    "    return min(\n",
    "        [\n",
    "            edit_distance(string1[:-1], string2) + 1, # string 1 delete tail\n",
    "            edit_distance(string1, string2[:-1]) + 1, # string 1 add tail of string2\n",
    "            edit_distance(strin1[:-1], string2[:-1]) + (0 if tail_s1 === tail_s2 else 2)\n",
    "        ]\n",
    "        \n",
    "    )"
   ]
  },
  {
   "cell_type": "code",
   "execution_count": null,
   "metadata": {},
   "outputs": [],
   "source": []
  }
 ],
 "metadata": {
  "kernelspec": {
   "display_name": "Python 3",
   "language": "python",
   "name": "python3"
  },
  "language_info": {
   "codemirror_mode": {
    "name": "ipython",
    "version": 3
   },
   "file_extension": ".py",
   "mimetype": "text/x-python",
   "name": "python",
   "nbconvert_exporter": "python",
   "pygments_lexer": "ipython3",
   "version": "3.6.7"
  }
 },
 "nbformat": 4,
 "nbformat_minor": 2
}

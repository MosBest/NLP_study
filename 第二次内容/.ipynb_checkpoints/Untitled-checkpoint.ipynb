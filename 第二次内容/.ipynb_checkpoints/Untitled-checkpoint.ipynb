{
 "cells": [
  {
   "cell_type": "markdown",
   "metadata": {},
   "source": [
    "# 导入模块"
   ]
  },
  {
   "cell_type": "code",
   "execution_count": 1,
   "metadata": {},
   "outputs": [],
   "source": [
    "import numpy as np\n",
    "import pandas as pd\n",
    "import re\n",
    "import jieba\n",
    "from collections import Counter\n",
    "import bz2\n",
    "import os\n",
    "import re"
   ]
  },
  {
   "cell_type": "markdown",
   "metadata": {},
   "source": [
    "# 构建语料库"
   ]
  },
  {
   "cell_type": "code",
   "execution_count": 71,
   "metadata": {
    "scrolled": true
   },
   "outputs": [],
   "source": [
    "#path = 'D:/my study/wikiextractor/extracted/'\n",
    "path = '/media/dinglei/DATA/my study/wikiextractor/extracted/'\n",
    "def get_data(path):\n",
    "    dir_name = os.listdir(path)\n",
    "    STRING = []\n",
    "    for name in dir_name:\n",
    "        one_path = os.path.join(path, name)\n",
    "        all_bz2file = os.listdir(one_path)\n",
    "        for bz2file in all_bz2file:\n",
    "            data = bz2.open(os.path.join(one_path, bz2file), \n",
    "                            mode='rt',\n",
    "                            encoding = 'utf-8')\n",
    "            yield data.readlines()\n",
    "\n",
    "data = get_data(path)"
   ]
  },
  {
   "cell_type": "code",
   "execution_count": 78,
   "metadata": {},
   "outputs": [],
   "source": [
    "def one_file_word_frequency(data):\n",
    "    b = next(data)\n",
    "    b = [i for i in b if i != '\\n' and i[:6]!='</doc>' and i[:5]!='<doc>']\n",
    "    b = [re.findall('[\\w|\\d]+', i) for i in b]\n",
    "    b = [' '.join(i) for i in b]\n",
    "    text = ''\n",
    "    for i in b:\n",
    "        text += i\n",
    "    token = jieba.lcut(text)\n",
    "    \n",
    "    token = pd.DataFrame(token,columns=['word'])\n",
    "    token = token.loc[token.word != ' ', :]\n",
    "    token = token.word.tolist()\n",
    "    token = Counter(token)\n",
    "    \n",
    "    return token"
   ]
  },
  {
   "cell_type": "code",
   "execution_count": 79,
   "metadata": {
    "scrolled": false
   },
   "outputs": [],
   "source": [
    "def all_token(data):\n",
    "    while True:\n",
    "        a = one_file_word_frequency(data)"
   ]
  },
  {
   "cell_type": "code",
   "execution_count": 41,
   "metadata": {},
   "outputs": [],
   "source": [
    "all_token(data)"
   ]
  },
  {
   "cell_type": "code",
   "execution_count": 43,
   "metadata": {},
   "outputs": [],
   "source": []
  },
  {
   "cell_type": "code",
   "execution_count": 56,
   "metadata": {},
   "outputs": [],
   "source": []
  },
  {
   "cell_type": "code",
   "execution_count": 63,
   "metadata": {},
   "outputs": [],
   "source": []
  },
  {
   "cell_type": "code",
   "execution_count": 64,
   "metadata": {},
   "outputs": [],
   "source": []
  },
  {
   "cell_type": "code",
   "execution_count": 65,
   "metadata": {},
   "outputs": [],
   "source": []
  },
  {
   "cell_type": "code",
   "execution_count": 68,
   "metadata": {},
   "outputs": [],
   "source": []
  },
  {
   "cell_type": "code",
   "execution_count": 69,
   "metadata": {},
   "outputs": [],
   "source": []
  },
  {
   "cell_type": "code",
   "execution_count": 70,
   "metadata": {},
   "outputs": [
    {
     "data": {
      "text/plain": [
       "[('的', 1849),\n",
       " ('在', 566),\n",
       " ('年', 553),\n",
       " ('是', 333),\n",
       " ('了', 278),\n",
       " ('月', 264),\n",
       " ('於', 250),\n",
       " ('和', 231),\n",
       " ('有', 201),\n",
       " ('為', 186)]"
      ]
     },
     "execution_count": 70,
     "metadata": {},
     "output_type": "execute_result"
    }
   ],
   "source": [
    "token.most_common(10)"
   ]
  },
  {
   "cell_type": "code",
   "execution_count": null,
   "metadata": {},
   "outputs": [],
   "source": []
  },
  {
   "cell_type": "code",
   "execution_count": 3,
   "metadata": {},
   "outputs": [],
   "source": [
    "\n",
    "#没办法，只能用pandas了．用list 直接操作，会卡得不要不要的．\n",
    "# 而且print列表，会将所有的内容打印出来，到时浏览器卡得都动不了．但是用pandas就不会有这种情况,非常的流畅\n",
    "s = pd.DataFrame(STRING)\n",
    "s.columns = ['content']\n"
   ]
  },
  {
   "cell_type": "code",
   "execution_count": 4,
   "metadata": {},
   "outputs": [],
   "source": [
    "s = s.loc[s.content != '\\n',:] # 差不多减少了20倍  14890407 7506700\n",
    "del STRING"
   ]
  },
  {
   "cell_type": "code",
   "execution_count": 5,
   "metadata": {},
   "outputs": [],
   "source": []
  },
  {
   "cell_type": "code",
   "execution_count": 6,
   "metadata": {},
   "outputs": [],
   "source": [
    "qq = list( map(lambda x: x[:4] != '<doc' and x[:5] != '</doc',s.content) ) # 5402221\n",
    "ss = s.loc[qq,:]"
   ]
  },
  {
   "cell_type": "code",
   "execution_count": 7,
   "metadata": {},
   "outputs": [],
   "source": [
    "string = (ss.content.tolist())"
   ]
  },
  {
   "cell_type": "code",
   "execution_count": 8,
   "metadata": {},
   "outputs": [],
   "source": [
    "del ss,qq,s"
   ]
  },
  {
   "cell_type": "code",
   "execution_count": null,
   "metadata": {},
   "outputs": [],
   "source": [
    "text = ''\n",
    "for sentence in string:\n",
    "    text += sentence"
   ]
  },
  {
   "cell_type": "code",
   "execution_count": 10,
   "metadata": {},
   "outputs": [],
   "source": [
    "def cut(string):\n",
    "    return jieba.cut(string)\n",
    "\n",
    "All_tokens = cut(text)"
   ]
  },
  {
   "cell_type": "code",
   "execution_count": 11,
   "metadata": {},
   "outputs": [
    {
     "data": {
      "text/plain": [
       "<generator object Tokenizer.cut at 0x7f3b72475e08>"
      ]
     },
     "execution_count": 11,
     "metadata": {},
     "output_type": "execute_result"
    }
   ],
   "source": [
    "All_tokens"
   ]
  },
  {
   "cell_type": "code",
   "execution_count": null,
   "metadata": {},
   "outputs": [],
   "source": [
    "del s\n",
    "del ss\n"
   ]
  },
  {
   "cell_type": "code",
   "execution_count": null,
   "metadata": {},
   "outputs": [],
   "source": []
  }
 ],
 "metadata": {
  "anaconda-cloud": {},
  "kernelspec": {
   "display_name": "Python 3",
   "language": "python",
   "name": "python3"
  },
  "language_info": {
   "codemirror_mode": {
    "name": "ipython",
    "version": 3
   },
   "file_extension": ".py",
   "mimetype": "text/x-python",
   "name": "python",
   "nbconvert_exporter": "python",
   "pygments_lexer": "ipython3",
   "version": "3.5.2"
  }
 },
 "nbformat": 4,
 "nbformat_minor": 1
}

{
 "cells": [
  {
   "cell_type": "markdown",
   "metadata": {},
   "source": [
    "## 1. How to Github and Why do we use Jupyter and Pycharm\n",
    "1. 见我以前写的笔记 。就在readme.md 就可以看到。 https://github.com/MosBest/learngit 。但是好像不是深入。\n",
    "2. 在命令行中Jupyter输入 jupyter notebook 或者 ipython notebook ，就可以在网页上面写代码。而且可以是解析式 ，一段一段的运行，方便可视化每一步的结果。而且可以写markdown, jupyter用来写笔记也很不错\n",
    "3. pycharm 是个很有名的python ide . 最近才开始用，发现以下优势：\n",
    "    1. ide嵌入了pep8编程规范，很好的帮助我们提高 代码的编写质量\n",
    "    2. 我觉得 挺轻巧的。 以前用spyder卡的不行,而且动不动就闪退， 用了pycharm就感觉 灵活得很多。\n",
    "       \n",
    "    pycharm才刚开始用，其他优势现在还没有体会到。"
   ]
  },
  {
   "cell_type": "markdown",
   "metadata": {},
   "source": [
    "## 2. What's the Probability Model?\n"
   ]
  },
  {
   "cell_type": "markdown",
   "metadata": {},
   "source": [
    "（数学）模型，就是用数学的方式 描述 我们需要解决的问题，而概率模型 是数学模型的一种，只是它描述问题的方式 是用 概率。\n",
    "\n",
    "以为来自 wiki。\n",
    "\n",
    "    概率模型（Statistical Model，也称为Probabilistic Model）是用来描述不同随机变量之间关系的数学模型，通常情况下刻画了一个或多个随机变量之间的相互非确定性的概率关系。从数学上讲，该模型通常被表达为(Y,P)，其中  Y是观测集合用来描述可能的观测结果， P是Y对应的概率分布函数集合。若使用概率模型，一般而言需假设存在一个确定的分布 P生成观测数据 Y。"
   ]
  },
  {
   "cell_type": "markdown",
   "metadata": {},
   "source": [
    "# 3. Can you came up with some sceneraies at which we could use Probability Model?"
   ]
  },
  {
   "cell_type": "markdown",
   "metadata": {},
   "source": [
    "垃圾邮箱分类器（用贝叶斯处理）"
   ]
  },
  {
   "cell_type": "markdown",
   "metadata": {},
   "source": [
    "# 4. Why do we use probability and what's the difficult points for programming based on parsing and pattern match?"
   ]
  },
  {
   "cell_type": "markdown",
   "metadata": {},
   "source": [
    "概率模型简单，10%的体力解决80%的问题。将现实问题用数学的方式处理，这样模型的泛化能力强。实现真正的数据驱动。"
   ]
  },
  {
   "cell_type": "markdown",
   "metadata": {},
   "source": [
    "# 5. What's the Language Model？"
   ]
  },
  {
   "cell_type": "markdown",
   "metadata": {},
   "source": [
    "简单地说，语言模型就是用来计算一个句子的概率的模型，也就是判断一句话是否是人话的概率？"
   ]
  },
  {
   "cell_type": "markdown",
   "metadata": {},
   "source": [
    "# 6. Can you came up with some sceneraies at which we could use Language Model?"
   ]
  },
  {
   "cell_type": "markdown",
   "metadata": {},
   "source": [
    "但凡和语言，文字的地方都可以用语言模型来处理。\n",
    "比如，聊天机器人，中英文翻译，等等NLP问题。"
   ]
  },
  {
   "cell_type": "markdown",
   "metadata": {},
   "source": [
    " # 7. What's the 1-gram language model？"
   ]
  },
  {
   "cell_type": "markdown",
   "metadata": {},
   "source": [
    "1-gram language model用于判断一条句子是人说出话的概率。只是它有非常强的先验条件，即 一个句子的每个词之间是相互独立的。这显然是错误，但正是因为这个先验，使得模型变得简单。\n",
    "\n",
    "即  P(sentence) = P(w1, w2, w3, w4, w5 ...) ~ P(w1) * P(w2) * P(w3) ..."
   ]
  },
  {
   "cell_type": "markdown",
   "metadata": {},
   "source": [
    "# 8. What's the disadvantages and advantages of 1-gram language model;"
   ]
  },
  {
   "cell_type": "markdown",
   "metadata": {},
   "source": [
    "缺点：它有非常强的先验条件，即 一个句子的每个词之间是相互独立的。这显然是错误\n",
    "\n",
    "优点：但正是因为这个先验，使得模型变得简单。"
   ]
  },
  {
   "cell_type": "markdown",
   "metadata": {},
   "source": [
    "# 9. What't the 2-gram models？"
   ]
  },
  {
   "cell_type": "markdown",
   "metadata": {},
   "source": [
    "2-gram language model也是用于判断一条句子是人说出话的概率。它的先验条件是一个句子的每个词与它相邻的两个词相关，弱于1-gram，所以相比于1-gram更加合理一些。\n",
    "\n",
    "即 P (sentence) = P (w1, w2, w3, w4, w5 ...) ~ P(w1) * P(w2|w1) * P(w3|w2) ......"
   ]
  },
  {
   "cell_type": "markdown",
   "metadata": {},
   "source": [
    "# 10. what's the web crawler, and can you implement a simple crawler?"
   ]
  },
  {
   "cell_type": "markdown",
   "metadata": {},
   "source": [
    "网络爬虫，是一种按照一定的规则，自动地抓取互联网信息的程序或者脚本。\n",
    "\n",
    "(用python实现)\n",
    "简单爬虫的知识点： 正则表达式的处理。 Python的re库专门用于处理正则表达式.\n",
    "所以对于超简单的爬虫，只需考虑如何如何用正则表达式删选网页信息，得到你想要的内容。\n",
    "\n",
    "(不过我想问一问，随便爬去他人网页信息，够不够违法)\n"
   ]
  },
  {
   "cell_type": "markdown",
   "metadata": {},
   "source": [
    "# 11. There may be some issues to make our crwaler programming difficult, what are these, and how do we solve them?"
   ]
  },
  {
   "cell_type": "markdown",
   "metadata": {},
   "source": [
    "1. 他人有反爬虫功能，比如js动态网页，比如网站根据一个用户行为监视是否为爬虫。\n",
    "2. 性能问题。"
   ]
  },
  {
   "cell_type": "markdown",
   "metadata": {},
   "source": [
    "# 12. What't the Regular Expression and how to use?"
   ]
  },
  {
   "cell_type": "markdown",
   "metadata": {},
   "source": [
    "(以下为wiki)正则表达式使用单个字符串来描述、匹配一系列匹配某个句法规则的字符串。在很多文本编辑器里，正则表达式通常被用来检索、替换那些匹配某个模式的文本。\n",
    "\n",
    "代处理字符串为string。\n",
    "import re\n",
    "s = re.findall(正则表达式 比如'[\\w|\\d]+', string)\n",
    "\n",
    "eg:\n",
    "\n",
    "    data = pd.read_csv(\"./datasource/export_sql_1558435.zip\", encoding='gb18030')\n",
    "    content = list( data.content )\n",
    "    content = [re.findall('[\\w|\\d]+', str(sentence)) for sentence in content]\n",
    "    content = [' '.join(word) for word in content]"
   ]
  },
  {
   "cell_type": "code",
   "execution_count": null,
   "metadata": {},
   "outputs": [],
   "source": []
  },
  {
   "cell_type": "code",
   "execution_count": null,
   "metadata": {},
   "outputs": [],
   "source": []
  }
 ],
 "metadata": {
  "kernelspec": {
   "display_name": "Python 3",
   "language": "python",
   "name": "python3"
  },
  "language_info": {
   "codemirror_mode": {
    "name": "ipython",
    "version": 3
   },
   "file_extension": ".py",
   "mimetype": "text/x-python",
   "name": "python",
   "nbconvert_exporter": "python",
   "pygments_lexer": "ipython3",
   "version": "3.6.7"
  }
 },
 "nbformat": 4,
 "nbformat_minor": 2
}
